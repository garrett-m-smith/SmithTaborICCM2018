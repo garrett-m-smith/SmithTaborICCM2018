{
 "cells": [
  {
   "cell_type": "markdown",
   "metadata": {},
   "source": [
    "# Numerical bifurcation analysis of SOSP\n",
    "\n",
    "We want to know if there are reasonable limits on $\\gamma$ and the relative harmony heights of two (for now) harmony peaks. It's clear that $\\gamma$ should be positive, otherwise it changes the nature of the harmony function. The interesting range for the height of the second harmony peak $h_1$ is 0 to 1, because any two harmony heights can be rescaled so that one of them equals one and the other is in that range.\n",
    "\n",
    "I'll be using PyDSTool for this (http://www2.gsu.edu/~matrhc/PyDSTool.htm). I'll start with a 1D system."
   ]
  },
  {
   "cell_type": "code",
   "execution_count": 19,
   "metadata": {},
   "outputs": [],
   "source": [
    "import PyDSTool\n",
    "import numpy as np\n",
    "import matplotlib.pyplot as plt\n",
    "\n",
    "# Naming the system\n",
    "DSargs = PyDSTool.args(name='SOSP-1D')\n",
    "\n",
    "# Parameters\n",
    "#DSargs.pars = {'g': 0.25, 'h0': 1.0, 'h1': 0.5, 'euler': np.exp(1)}  # For now, just looking effect of gamma\n",
    "DSargs.pars = {'g': 0.25, 'h0': 1.0, 'h1': 0.5}  # For now, just looking effect of gamma\n",
    "\n",
    "# RHS of diff. eq.\n",
    "DSargs.varspecs = {'x': '(-2*h0 / g) * exp(-x**2/g) * x + (-2*h1 / g) * exp(-(x-1)**2/g) * (x-1)'}\n",
    "\n",
    "# Init. cond.\n",
    "DSargs.ics = {'x': 0.75}"
   ]
  },
  {
   "cell_type": "code",
   "execution_count": 20,
   "metadata": {},
   "outputs": [
    {
     "data": {
      "image/png": "[encoded data removed]",
      "text/plain": [
       "<matplotlib.figure.Figure at 0x10a952780>"
      ]
     },
     "metadata": {},
     "output_type": "display_data"
    }
   ],
   "source": [
    "# Trying out just looking at a trajectory\n",
    "DSargs.tdomain = [0, 10]  # set the range of integration.\n",
    "ode = PyDSTool.Generator.Vode_ODEsystem(DSargs)  # an instance of the 'Generator' class.\n",
    "traj = ode.compute('trajectory')\n",
    "pd = traj.sample()  # Data for plotting\n",
    "\n",
    "plt.plot(pd['t'], pd['x'])\n",
    "plt.xlabel('time')\n",
    "plt.ylabel('x')\n",
    "plt.ylim([-0.1, 1.1])\n",
    "plt.show()"
   ]
  },
  {
   "cell_type": "code",
   "execution_count": 121,
   "metadata": {},
   "outputs": [
    {
     "name": "stdout",
     "output_type": "stream",
     "text": [
      "First curve\n",
      "Warning: Variable dimension must be larger than 1 to detect Hopf points.\n",
      "Starting second curve\n",
      "Warning: Variable dimension must be larger than 1 to detect Hopf points.\n",
      "LP Point found \n"
     ]
    },
    {
     "data": {
      "image/png": "[encoded data removed]",
      "text/plain": [
       "<matplotlib.figure.Figure at 0x10a9e2278>"
      ]
     },
     "metadata": {},
     "output_type": "display_data"
    }
   ],
   "source": [
    "# Doing the bifurcation analysis as a function of gamma (g)\n",
    "# Set init cond near a known fp.\n",
    "ode.set(pars={'g': 0.1, 'h1': 0.9})  # lower bound for gamma\n",
    "ode.set(ics={'x': 0.0})  # init. cond. for x\n",
    "\n",
    "# Set up a continuation class from the ODE\n",
    "PyCont = PyDSTool.ContClass(ode)\n",
    "# 'EP-C' stands for Equilibrium Point Curve. The branch will be labeled 'EQ1'.\n",
    "PCargs = PyDSTool.args(name='branch1', type='EP-C')\n",
    "# control parameter(s) (it should be among those specified in DSargs.pars)\n",
    "PCargs.freepars = ['g']\n",
    "# The following 3 parameters are set after trial-and-error\n",
    "PCargs.MaxNumPoints = 20#1500\n",
    "PCargs.MaxStepSize = 1e-1\n",
    "PCargs.MinStepSize = 1e-7\n",
    "PCargs.StepSize = 1e-2\n",
    "PCargs.FuncTol = 1e-8\n",
    "PCargs.TestTol = 1e-8\n",
    "PCargs.VarTol = 1e-8\n",
    "# detect limit points / saddle-node bifurcations\n",
    "PCargs.LocBifPoints = 'all'  #['LP', 'BP']\n",
    "# to tell unstable from stable branches\n",
    "PCargs.SaveEigen = True\n",
    "\n",
    "# Computing the bifucation diagram\n",
    "print('First curve')\n",
    "PyCont.newCurve(PCargs)\n",
    "PyCont['branch1'].forward()\n",
    "#PyCont['branch1'].backward()\n",
    "\n",
    "# Other fps\n",
    "print('Starting second curve')\n",
    "PCargs = PyDSTool.args(name='branch2', type='EP-C', force=True)\n",
    "PCargs.initpoint = {'x': 1.0, 'g': 0.1}  #'branch1:BP1'\n",
    "#PCargs.initpoint = 'branch1:BP1'\n",
    "PCargs.freepars = ['g']\n",
    "PCargs.MaxNumPoints = 20\n",
    "PCargs.MaxStepSize = 1e-1\n",
    "PCargs.MinStepSize = 1e-7\n",
    "PCargs.StepSize = 1e-2\n",
    "PCargs.FuncTol = 1e-8\n",
    "PCargs.TestTol = 1e-8\n",
    "PCargs.VarTol = 1e-8\n",
    "PCargs.LocBifPoints = 'all'\n",
    "PCargs.SaveEigen = True\n",
    "#PCargs.verbosity = 2\n",
    "PyCont.newCurve(PCargs)\n",
    "#PyCont['branch2'].forward()\n",
    "PyCont['branch2'].backward()\n",
    "\n",
    "PyCont.display(['g', 'x'], stability=True)\n",
    "plt.show()"
   ]
  },
  {
   "cell_type": "code",
   "execution_count": 112,
   "metadata": {},
   "outputs": [
    {
     "name": "stdout",
     "output_type": "stream",
     "text": [
      "PyCont curve branch1 (type EP-C)\n",
      "Using model: SOSP-1D\n",
      "\n",
      "Model Info\n",
      "---------- \n",
      "\n",
      "  Variables : x\n",
      "  Parameters: h1, g, h0\n",
      "\n",
      "Continuation Parameters\n",
      "----------------------- \n",
      "\n",
      "name  =  branch1\n",
      "auxpars  =  []\n",
      "freepars  =  ['g']\n",
      "MaxNumPoints  =  20\n",
      "MaxCorrIters  =  5\n",
      "MaxTestIters  =  10\n",
      "MaxStepSize  =  0.1\n",
      "MinStepSize  =  1e-07\n",
      "StepSize  =  0.1\n",
      "VarTol  =  1e-08\n",
      "FuncTol  =  1e-08\n",
      "TestTol  =  1e-08\n",
      "LocBifPoints  =  ['B', 'SP', 'BP', 'LP']\n",
      "verbosity  =  1\n",
      "ClosedCurve  =  50\n",
      "SaveJacobian  =  False\n",
      "SaveEigen  =  True\n",
      "Corrector  =  <bound method Continuation._MoorePenrose of PyCont curve branch1 (type EP-C)>\n",
      "UseAuto  =  False\n",
      "StopAtPoints  =  []\n",
      "SPOut  =  None\n",
      "\n",
      "\n",
      "Special Points\n",
      "-------------- \n",
      "\n",
      "P1, P2\n"
     ]
    }
   ],
   "source": [
    "PyCont['branch1'].info()"
   ]
  },
  {
   "cell_type": "code",
   "execution_count": 113,
   "metadata": {},
   "outputs": [
    {
     "name": "stdout",
     "output_type": "stream",
     "text": [
      "Location of bifucation: None\n"
     ]
    }
   ],
   "source": [
    "print('Location of bifucation: {}'.format(PyCont['branch1'].getSpecialPoint('BP1')))"
   ]
  },
  {
   "cell_type": "code",
   "execution_count": 114,
   "metadata": {},
   "outputs": [
    {
     "name": "stdout",
     "output_type": "stream",
     "text": [
      "PyCont curve branch2 (type EP-C)\n",
      "Using model: SOSP-1D\n",
      "\n",
      "Model Info\n",
      "---------- \n",
      "\n",
      "  Variables : x\n",
      "  Parameters: h1, g, h0\n",
      "\n",
      "Continuation Parameters\n",
      "----------------------- \n",
      "\n",
      "name  =  branch2\n",
      "force  =  True\n",
      "auxpars  =  []\n",
      "freepars  =  ['g']\n",
      "MaxNumPoints  =  20\n",
      "MaxCorrIters  =  5\n",
      "MaxTestIters  =  10\n",
      "MaxStepSize  =  0.1\n",
      "MinStepSize  =  1e-07\n",
      "StepSize  =  0.09600000000000002\n",
      "VarTol  =  1e-08\n",
      "FuncTol  =  1e-08\n",
      "TestTol  =  1e-08\n",
      "LocBifPoints  =  ['B', 'SP', 'BP', 'LP']\n",
      "verbosity  =  1\n",
      "ClosedCurve  =  50\n",
      "SaveJacobian  =  False\n",
      "SaveEigen  =  True\n",
      "Corrector  =  <bound method Continuation._MoorePenrose of PyCont curve branch2 (type EP-C)>\n",
      "UseAuto  =  False\n",
      "StopAtPoints  =  []\n",
      "SPOut  =  None\n",
      "\n",
      "\n",
      "Special Points\n",
      "-------------- \n",
      "\n",
      "P1, P2, LP1\n"
     ]
    }
   ],
   "source": [
    "PyCont['branch2'].info()"
   ]
  },
  {
   "cell_type": "code",
   "execution_count": null,
   "metadata": {
    "collapsed": true
   },
   "outputs": [],
   "source": []
  }
 ],
 "metadata": {
  "kernelspec": {
   "display_name": "Python [conda root]",
   "language": "python",
   "name": "conda-root-py"
  },
  "language_info": {
   "codemirror_mode": {
    "name": "ipython",
    "version": 3
   },
   "file_extension": ".py",
   "mimetype": "text/x-python",
   "name": "python",
   "nbconvert_exporter": "python",
   "pygments_lexer": "ipython3",
   "version": "3.5.4"
  }
 },
 "nbformat": 4,
 "nbformat_minor": 2
}
