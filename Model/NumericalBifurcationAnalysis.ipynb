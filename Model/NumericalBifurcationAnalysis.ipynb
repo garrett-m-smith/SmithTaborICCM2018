{
 "cells": [
  {
   "cell_type": "markdown",
   "metadata": {},
   "source": [
    "# Numerical bifurcation analysis of SOSP\n",
    "\n",
    "We want to know if there are reasonable limits on $\\gamma$ and the relative harmony heights of two (for now) harmony peaks. It's clear that $\\gamma$ should be positive, otherwise it changes the nature of the harmony function. The interesting range for the height of the second harmony peak $h_1$ is 0 to 1, because any two harmony heights can be rescaled so that one of them equals one and the other is in that range.\n",
    "\n",
    "I'll be using PyDSTool for this (http://www2.gsu.edu/~matrhc/PyDSTool.htm). I'll start with a 1D system."
   ]
  },
  {
   "cell_type": "code",
   "execution_count": 1,
   "metadata": {},
   "outputs": [],
   "source": [
    "import PyDSTool\n",
    "import numpy as np\n",
    "import matplotlib.pyplot as plt\n",
    "\n",
    "# Naming the system\n",
    "DSargs = PyDSTool.args(name='SOSP-1D')\n",
    "\n",
    "# Parameters\n",
    "#DSargs.pars = {'g': 0.25, 'h0': 1.0, 'h1': 0.5, 'euler': np.exp(1)}  # For now, just looking effect of gamma\n",
    "DSargs.pars = {'g': 0.25, 'h0': 1.0, 'h1': 0.5}  # For now, just looking effect of gamma\n",
    "\n",
    "# RHS of diff. eq.\n",
    "DSargs.varspecs = {'x': '(-2*h0 / g) * exp(-x**2/g) * x + (-2*h1 / g) * exp(-(x-1)**2/g) * (x-1)'}\n",
    "\n",
    "# Init. cond.\n",
    "DSargs.ics = {'x': 0.75}"
   ]
  },
  {
   "cell_type": "code",
   "execution_count": 2,
   "metadata": {},
   "outputs": [
    {
     "data": {
      "image/png": "[encoded data removed]",
      "text/plain": [
       "<Figure size 432x288 with 1 Axes>"
      ]
     },
     "metadata": {},
     "output_type": "display_data"
    }
   ],
   "source": [
    "# Trying out just looking at a trajectory\n",
    "DSargs.tdomain = [0, 10]  # set the range of integration.\n",
    "ode = PyDSTool.Generator.Vode_ODEsystem(DSargs)  # an instance of the 'Generator' class.\n",
    "traj = ode.compute('trajectory')\n",
    "pd = traj.sample()  # Data for plotting\n",
    "\n",
    "plt.plot(pd['t'], pd['x'])\n",
    "plt.xlabel('time')\n",
    "plt.ylabel('x')\n",
    "plt.ylim([-0.1, 1.1])\n",
    "plt.show()"
   ]
  },
  {
   "cell_type": "code",
   "execution_count": 4,
   "metadata": {},
   "outputs": [
    {
     "name": "stdout",
     "output_type": "stream",
     "text": [
      "First curve\n",
      "Warning: Variable dimension must be larger than 1 to detect Hopf points.\n",
      "Starting second curve\n",
      "Warning: Variable dimension must be larger than 1 to detect Hopf points.\n",
      "LP Point found \n"
     ]
    },
    {
     "name": "stderr",
     "output_type": "stream",
     "text": [
      "/Users/garrettsmith/anaconda/lib/python3.6/site-packages/scipy/linalg/basic.py:40: RuntimeWarning: scipy.linalg.solve\n",
      "Ill-conditioned matrix detected. Result is not guaranteed to be accurate.\n",
      "Reciprocal condition number/precision: 5.2499600484876315e-49 / 1.1102230246251565e-16\n",
      "  RuntimeWarning)\n",
      "/Users/garrettsmith/anaconda/lib/python3.6/site-packages/scipy/linalg/basic.py:40: RuntimeWarning: scipy.linalg.solve\n",
      "Ill-conditioned matrix detected. Result is not guaranteed to be accurate.\n",
      "Reciprocal condition number/precision: 1.4488944877929543e-47 / 1.1102230246251565e-16\n",
      "  RuntimeWarning)\n",
      "/Users/garrettsmith/anaconda/lib/python3.6/site-packages/scipy/linalg/basic.py:40: RuntimeWarning: scipy.linalg.solve\n",
      "Ill-conditioned matrix detected. Result is not guaranteed to be accurate.\n",
      "Reciprocal condition number/precision: 3.977592874155708e-47 / 1.1102230246251565e-16\n",
      "  RuntimeWarning)\n",
      "/Users/garrettsmith/anaconda/lib/python3.6/site-packages/scipy/linalg/basic.py:40: RuntimeWarning: scipy.linalg.solve\n",
      "Ill-conditioned matrix detected. Result is not guaranteed to be accurate.\n",
      "Reciprocal condition number/precision: 1.0920527931017052e-46 / 1.1102230246251565e-16\n",
      "  RuntimeWarning)\n",
      "/Users/garrettsmith/anaconda/lib/python3.6/site-packages/scipy/linalg/basic.py:40: RuntimeWarning: scipy.linalg.solve\n",
      "Ill-conditioned matrix detected. Result is not guaranteed to be accurate.\n",
      "Reciprocal condition number/precision: 2.998547946412218e-46 / 1.1102230246251565e-16\n",
      "  RuntimeWarning)\n",
      "/Users/garrettsmith/anaconda/lib/python3.6/site-packages/matplotlib/cbook/deprecation.py:107: MatplotlibDeprecationWarning: Using pyplot.axes(ax) with ax an Axes argument is deprecated. Please use pyplot.sca(ax) instead.\n",
      "  warnings.warn(message, mplDeprecation, stacklevel=1)\n"
     ]
    },
    {
     "data": {
      "image/png": "[encoded data removed]",
      "text/plain": [
       "<Figure size 432x288 with 1 Axes>"
      ]
     },
     "metadata": {},
     "output_type": "display_data"
    }
   ],
   "source": [
    "# Doing the bifurcation analysis as a function of gamma (g)\n",
    "# Set init cond near a known fp.\n",
    "ode.set(pars={'g': 0.1, 'h1': 0.9})  # lower bound for gamma\n",
    "ode.set(ics={'x': 0.0})  # init. cond. for x\n",
    "\n",
    "# Set up a continuation class from the ODE\n",
    "PyCont = PyDSTool.ContClass(ode)\n",
    "# 'EP-C' stands for Equilibrium Point Curve. The branch will be labeled 'EQ1'.\n",
    "PCargs = PyDSTool.args(name='branch1', type='EP-C')\n",
    "# control parameter(s) (it should be among those specified in DSargs.pars)\n",
    "PCargs.freepars = ['g']\n",
    "# The following 3 parameters are set after trial-and-error\n",
    "PCargs.MaxNumPoints = 20#1500\n",
    "PCargs.MaxStepSize = 1e-1\n",
    "PCargs.MinStepSize = 1e-7\n",
    "PCargs.StepSize = 1e-2\n",
    "PCargs.FuncTol = 1e-8\n",
    "PCargs.TestTol = 1e-8\n",
    "PCargs.VarTol = 1e-8\n",
    "# detect limit points / saddle-node bifurcations\n",
    "PCargs.LocBifPoints = 'all'  #['LP', 'BP']\n",
    "# to tell unstable from stable branches\n",
    "PCargs.SaveEigen = True\n",
    "\n",
    "# Computing the bifucation diagram\n",
    "print('First curve')\n",
    "PyCont.newCurve(PCargs)\n",
    "PyCont['branch1'].forward()\n",
    "#PyCont['branch1'].backward()\n",
    "\n",
    "# Other fps\n",
    "print('Starting second curve')\n",
    "PCargs = PyDSTool.args(name='branch2', type='EP-C', force=True)\n",
    "PCargs.initpoint = {'x': 1.0, 'g': 0.1}  #'branch1:BP1'\n",
    "#PCargs.initpoint = 'branch1:BP1'\n",
    "PCargs.freepars = ['g']\n",
    "PCargs.MaxNumPoints = 20\n",
    "PCargs.MaxStepSize = 1e-1\n",
    "PCargs.MinStepSize = 1e-7\n",
    "PCargs.StepSize = 1e-2\n",
    "PCargs.FuncTol = 1e-8\n",
    "PCargs.TestTol = 1e-8\n",
    "PCargs.VarTol = 1e-8\n",
    "PCargs.LocBifPoints = 'all'\n",
    "PCargs.SaveEigen = True\n",
    "#PCargs.verbosity = 2\n",
    "PyCont.newCurve(PCargs)\n",
    "#PyCont['branch2'].forward()\n",
    "PyCont['branch2'].backward()\n",
    "\n",
    "PyCont.display(['g', 'x'], stability=True)\n",
    "plt.show()"
   ]
  },
  {
   "cell_type": "code",
   "execution_count": 112,
   "metadata": {},
   "outputs": [
    {
     "name": "stdout",
     "output_type": "stream",
     "text": [
      "PyCont curve branch1 (type EP-C)\n",
      "Using model: SOSP-1D\n",
      "\n",
      "Model Info\n",
      "---------- \n",
      "\n",
      "  Variables : x\n",
      "  Parameters: h1, g, h0\n",
      "\n",
      "Continuation Parameters\n",
      "----------------------- \n",
      "\n",
      "name  =  branch1\n",
      "auxpars  =  []\n",
      "freepars  =  ['g']\n",
      "MaxNumPoints  =  20\n",
      "MaxCorrIters  =  5\n",
      "MaxTestIters  =  10\n",
      "MaxStepSize  =  0.1\n",
      "MinStepSize  =  1e-07\n",
      "StepSize  =  0.1\n",
      "VarTol  =  1e-08\n",
      "FuncTol  =  1e-08\n",
      "TestTol  =  1e-08\n",
      "LocBifPoints  =  ['B', 'SP', 'BP', 'LP']\n",
      "verbosity  =  1\n",
      "ClosedCurve  =  50\n",
      "SaveJacobian  =  False\n",
      "SaveEigen  =  True\n",
      "Corrector  =  <bound method Continuation._MoorePenrose of PyCont curve branch1 (type EP-C)>\n",
      "UseAuto  =  False\n",
      "StopAtPoints  =  []\n",
      "SPOut  =  None\n",
      "\n",
      "\n",
      "Special Points\n",
      "-------------- \n",
      "\n",
      "P1, P2\n"
     ]
    }
   ],
   "source": [
    "PyCont['branch1'].info()"
   ]
  },
  {
   "cell_type": "code",
   "execution_count": 113,
   "metadata": {},
   "outputs": [
    {
     "name": "stdout",
     "output_type": "stream",
     "text": [
      "Location of bifucation: None\n"
     ]
    }
   ],
   "source": [
    "print('Location of bifucation: {}'.format(PyCont['branch1'].getSpecialPoint('BP1')))"
   ]
  },
  {
   "cell_type": "code",
   "execution_count": 114,
   "metadata": {},
   "outputs": [
    {
     "name": "stdout",
     "output_type": "stream",
     "text": [
      "PyCont curve branch2 (type EP-C)\n",
      "Using model: SOSP-1D\n",
      "\n",
      "Model Info\n",
      "---------- \n",
      "\n",
      "  Variables : x\n",
      "  Parameters: h1, g, h0\n",
      "\n",
      "Continuation Parameters\n",
      "----------------------- \n",
      "\n",
      "name  =  branch2\n",
      "force  =  True\n",
      "auxpars  =  []\n",
      "freepars  =  ['g']\n",
      "MaxNumPoints  =  20\n",
      "MaxCorrIters  =  5\n",
      "MaxTestIters  =  10\n",
      "MaxStepSize  =  0.1\n",
      "MinStepSize  =  1e-07\n",
      "StepSize  =  0.09600000000000002\n",
      "VarTol  =  1e-08\n",
      "FuncTol  =  1e-08\n",
      "TestTol  =  1e-08\n",
      "LocBifPoints  =  ['B', 'SP', 'BP', 'LP']\n",
      "verbosity  =  1\n",
      "ClosedCurve  =  50\n",
      "SaveJacobian  =  False\n",
      "SaveEigen  =  True\n",
      "Corrector  =  <bound method Continuation._MoorePenrose of PyCont curve branch2 (type EP-C)>\n",
      "UseAuto  =  False\n",
      "StopAtPoints  =  []\n",
      "SPOut  =  None\n",
      "\n",
      "\n",
      "Special Points\n",
      "-------------- \n",
      "\n",
      "P1, P2, LP1\n"
     ]
    }
   ],
   "source": [
    "PyCont['branch2'].info()"
   ]
  },
  {
   "cell_type": "code",
   "execution_count": 15,
   "metadata": {},
   "outputs": [
    {
     "name": "stdout",
     "output_type": "stream",
     "text": [
      "First curve\n",
      "Warning: Variable dimension must be larger than 1 to detect Hopf points.\n",
      "Starting second curve\n",
      "Warning: Variable dimension must be larger than 1 to detect Hopf points.\n",
      "LP Point found \n",
      "Computing Fold curve...\n"
     ]
    },
    {
     "name": "stderr",
     "output_type": "stream",
     "text": [
      "/Users/garrettsmith/anaconda/lib/python3.6/site-packages/scipy/linalg/basic.py:40: RuntimeWarning: scipy.linalg.solve\n",
      "Ill-conditioned matrix detected. Result is not guaranteed to be accurate.\n",
      "Reciprocal condition number/precision: 5.2499600484876315e-49 / 1.1102230246251565e-16\n",
      "  RuntimeWarning)\n",
      "/Users/garrettsmith/anaconda/lib/python3.6/site-packages/scipy/linalg/basic.py:40: RuntimeWarning: scipy.linalg.solve\n",
      "Ill-conditioned matrix detected. Result is not guaranteed to be accurate.\n",
      "Reciprocal condition number/precision: 1.4488944877929543e-47 / 1.1102230246251565e-16\n",
      "  RuntimeWarning)\n",
      "/Users/garrettsmith/anaconda/lib/python3.6/site-packages/scipy/linalg/basic.py:40: RuntimeWarning: scipy.linalg.solve\n",
      "Ill-conditioned matrix detected. Result is not guaranteed to be accurate.\n",
      "Reciprocal condition number/precision: 3.977592874155708e-47 / 1.1102230246251565e-16\n",
      "  RuntimeWarning)\n",
      "/Users/garrettsmith/anaconda/lib/python3.6/site-packages/scipy/linalg/basic.py:40: RuntimeWarning: scipy.linalg.solve\n",
      "Ill-conditioned matrix detected. Result is not guaranteed to be accurate.\n",
      "Reciprocal condition number/precision: 1.0920527931017052e-46 / 1.1102230246251565e-16\n",
      "  RuntimeWarning)\n",
      "/Users/garrettsmith/anaconda/lib/python3.6/site-packages/scipy/linalg/basic.py:40: RuntimeWarning: scipy.linalg.solve\n",
      "Ill-conditioned matrix detected. Result is not guaranteed to be accurate.\n",
      "Reciprocal condition number/precision: 2.998547946412218e-46 / 1.1102230246251565e-16\n",
      "  RuntimeWarning)\n"
     ]
    },
    {
     "ename": "TypeError",
     "evalue": "'float' object cannot be interpreted as an integer",
     "output_type": "error",
     "traceback": [
      "\u001b[0;31m---------------------------------------------------------------------------\u001b[0m",
      "\u001b[0;31mTypeError\u001b[0m                                 Traceback (most recent call last)",
      "\u001b[0;32m<ipython-input-15-73db1c145ba8>\u001b[0m in \u001b[0;36m<module>\u001b[0;34m()\u001b[0m\n\u001b[1;32m     62\u001b[0m \u001b[0;34m\u001b[0m\u001b[0m\n\u001b[1;32m     63\u001b[0m \u001b[0mprint\u001b[0m\u001b[0;34m(\u001b[0m\u001b[0;34m'Computing Fold curve...'\u001b[0m\u001b[0;34m)\u001b[0m\u001b[0;34m\u001b[0m\u001b[0m\n\u001b[0;32m---> 64\u001b[0;31m \u001b[0mPyCont\u001b[0m\u001b[0;34m[\u001b[0m\u001b[0;34m'FO1'\u001b[0m\u001b[0;34m]\u001b[0m\u001b[0;34m.\u001b[0m\u001b[0mforward\u001b[0m\u001b[0;34m(\u001b[0m\u001b[0;34m)\u001b[0m\u001b[0;34m\u001b[0m\u001b[0m\n\u001b[0m\u001b[1;32m     65\u001b[0m \u001b[0;34m\u001b[0m\u001b[0m\n\u001b[1;32m     66\u001b[0m \u001b[0mPyCont\u001b[0m\u001b[0;34m.\u001b[0m\u001b[0mdisplay\u001b[0m\u001b[0;34m(\u001b[0m\u001b[0;34m[\u001b[0m\u001b[0;34m'g'\u001b[0m\u001b[0;34m,\u001b[0m \u001b[0;34m'x'\u001b[0m\u001b[0;34m]\u001b[0m\u001b[0;34m,\u001b[0m \u001b[0mstability\u001b[0m\u001b[0;34m=\u001b[0m\u001b[0;32mTrue\u001b[0m\u001b[0;34m)\u001b[0m\u001b[0;34m\u001b[0m\u001b[0m\n",
      "\u001b[0;32m~/anaconda/lib/python3.6/site-packages/PyDSTool/PyCont/Continuation.py\u001b[0m in \u001b[0;36mforward\u001b[0;34m(self)\u001b[0m\n\u001b[1;32m   1244\u001b[0m         \u001b[0mself\u001b[0m\u001b[0;34m.\u001b[0m\u001b[0mCurveInfo\u001b[0m \u001b[0;34m=\u001b[0m \u001b[0mPointInfo\u001b[0m\u001b[0;34m(\u001b[0m\u001b[0;34m)\u001b[0m\u001b[0;34m\u001b[0m\u001b[0m\n\u001b[1;32m   1245\u001b[0m         \u001b[0;32mif\u001b[0m \u001b[0mself\u001b[0m\u001b[0;34m.\u001b[0m\u001b[0msol\u001b[0m \u001b[0;32mis\u001b[0m \u001b[0;32mNone\u001b[0m\u001b[0;34m:\u001b[0m\u001b[0;34m\u001b[0m\u001b[0m\n\u001b[0;32m-> 1246\u001b[0;31m             \u001b[0mself\u001b[0m\u001b[0;34m.\u001b[0m\u001b[0m_compute\u001b[0m\u001b[0;34m(\u001b[0m\u001b[0mv0\u001b[0m\u001b[0;34m=\u001b[0m\u001b[0mself\u001b[0m\u001b[0;34m.\u001b[0m\u001b[0minitdirec\u001b[0m\u001b[0;34m)\u001b[0m\u001b[0;34m\u001b[0m\u001b[0m\n\u001b[0m\u001b[1;32m   1247\u001b[0m             \u001b[0mself\u001b[0m\u001b[0;34m.\u001b[0m\u001b[0msol\u001b[0m \u001b[0;34m=\u001b[0m \u001b[0mself\u001b[0m\u001b[0;34m.\u001b[0m\u001b[0m_curveToPointset\u001b[0m\u001b[0;34m(\u001b[0m\u001b[0;34m)\u001b[0m\u001b[0;34m\u001b[0m\u001b[0m\n\u001b[1;32m   1248\u001b[0m \u001b[0;34m\u001b[0m\u001b[0m\n",
      "\u001b[0;32m~/anaconda/lib/python3.6/site-packages/PyDSTool/PyCont/Continuation.py\u001b[0m in \u001b[0;36m_compute\u001b[0;34m(self, x0, v0, direc)\u001b[0m\n\u001b[1;32m   1100\u001b[0m \u001b[0;34m\u001b[0m\u001b[0m\n\u001b[1;32m   1101\u001b[0m         \u001b[0;31m# Initialize test functions\u001b[0m\u001b[0;34m\u001b[0m\u001b[0;34m\u001b[0m\u001b[0m\n\u001b[0;32m-> 1102\u001b[0;31m         \u001b[0mself\u001b[0m\u001b[0;34m.\u001b[0m\u001b[0m_createTestFuncs\u001b[0m\u001b[0;34m(\u001b[0m\u001b[0;34m)\u001b[0m\u001b[0;34m\u001b[0m\u001b[0m\n\u001b[0m\u001b[1;32m   1103\u001b[0m \u001b[0;34m\u001b[0m\u001b[0m\n\u001b[1;32m   1104\u001b[0m         \u001b[0;31m# self.CorrFunc.J_coords = self.CorrFunc.jac(x0,self.coords)\u001b[0m\u001b[0;34m\u001b[0m\u001b[0;34m\u001b[0m\u001b[0m\n",
      "\u001b[0;32m~/anaconda/lib/python3.6/site-packages/PyDSTool/PyCont/Continuation.py\u001b[0m in \u001b[0;36m_createTestFuncs\u001b[0;34m(self)\u001b[0m\n\u001b[1;32m   2151\u001b[0m                     \u001b[0mself\u001b[0m\u001b[0;34m.\u001b[0m\u001b[0mTestFuncs\u001b[0m\u001b[0;34m.\u001b[0m\u001b[0mappend\u001b[0m\u001b[0;34m(\u001b[0m\u001b[0mmethod1\u001b[0m\u001b[0;34m)\u001b[0m\u001b[0;34m\u001b[0m\u001b[0m\n\u001b[1;32m   2152\u001b[0m                     method2 = Hopf_Bor(self.CorrFunc.sysfunc, self,\n\u001b[0;32m-> 2153\u001b[0;31m                                        save=True, numpoints=self.MaxNumPoints+1)\n\u001b[0m\u001b[1;32m   2154\u001b[0m                     \u001b[0mself\u001b[0m\u001b[0;34m.\u001b[0m\u001b[0mTestFuncs\u001b[0m\u001b[0;34m.\u001b[0m\u001b[0mappend\u001b[0m\u001b[0;34m(\u001b[0m\u001b[0mmethod2\u001b[0m\u001b[0;34m)\u001b[0m\u001b[0;34m\u001b[0m\u001b[0m\n\u001b[1;32m   2155\u001b[0m                     \u001b[0;32mif\u001b[0m \u001b[0mbftype\u001b[0m \u001b[0;32mis\u001b[0m \u001b[0;34m'BT'\u001b[0m\u001b[0;34m:\u001b[0m\u001b[0;34m\u001b[0m\u001b[0m\n",
      "\u001b[0;32m~/anaconda/lib/python3.6/site-packages/PyDSTool/PyCont/TestFunc.py\u001b[0m in \u001b[0;36m__init__\u001b[0;34m(self, F, C, update, corr, save, numpoints)\u001b[0m\n\u001b[1;32m    717\u001b[0m     \u001b[0;32mdef\u001b[0m \u001b[0m__init__\u001b[0m\u001b[0;34m(\u001b[0m\u001b[0mself\u001b[0m\u001b[0;34m,\u001b[0m \u001b[0mF\u001b[0m\u001b[0;34m,\u001b[0m \u001b[0mC\u001b[0m\u001b[0;34m,\u001b[0m \u001b[0mupdate\u001b[0m\u001b[0;34m=\u001b[0m\u001b[0;32mFalse\u001b[0m\u001b[0;34m,\u001b[0m \u001b[0mcorr\u001b[0m\u001b[0;34m=\u001b[0m\u001b[0;32mFalse\u001b[0m\u001b[0;34m,\u001b[0m \u001b[0msave\u001b[0m\u001b[0;34m=\u001b[0m\u001b[0;32mFalse\u001b[0m\u001b[0;34m,\u001b[0m \u001b[0mnumpoints\u001b[0m\u001b[0;34m=\u001b[0m\u001b[0;32mNone\u001b[0m\u001b[0;34m)\u001b[0m\u001b[0;34m:\u001b[0m\u001b[0;34m\u001b[0m\u001b[0m\n\u001b[1;32m    718\u001b[0m         \u001b[0mn\u001b[0m \u001b[0;34m=\u001b[0m \u001b[0mF\u001b[0m\u001b[0;34m.\u001b[0m\u001b[0mm\u001b[0m\u001b[0;34m\u001b[0m\u001b[0m\n\u001b[0;32m--> 719\u001b[0;31m         \u001b[0mBiAltMethod\u001b[0m\u001b[0;34m.\u001b[0m\u001b[0m__init__\u001b[0m\u001b[0;34m(\u001b[0m\u001b[0mself\u001b[0m\u001b[0;34m,\u001b[0m \u001b[0;34m(\u001b[0m\u001b[0mF\u001b[0m\u001b[0;34m.\u001b[0m\u001b[0mn\u001b[0m\u001b[0;34m,\u001b[0m \u001b[0;36m1\u001b[0m\u001b[0;34m)\u001b[0m\u001b[0;34m,\u001b[0m \u001b[0mF\u001b[0m\u001b[0;34m,\u001b[0m \u001b[0mC\u001b[0m\u001b[0;34m,\u001b[0m \u001b[0msave\u001b[0m\u001b[0;34m=\u001b[0m\u001b[0msave\u001b[0m\u001b[0;34m,\u001b[0m \u001b[0mnumpoints\u001b[0m\u001b[0;34m=\u001b[0m\u001b[0mnumpoints\u001b[0m\u001b[0;34m)\u001b[0m\u001b[0;34m\u001b[0m\u001b[0m\n\u001b[0m\u001b[1;32m    720\u001b[0m         \u001b[0mBorderMethod\u001b[0m\u001b[0;34m.\u001b[0m\u001b[0m__init__\u001b[0m\u001b[0;34m(\u001b[0m\u001b[0mself\u001b[0m\u001b[0;34m,\u001b[0m \u001b[0;34m(\u001b[0m\u001b[0mF\u001b[0m\u001b[0;34m.\u001b[0m\u001b[0mn\u001b[0m\u001b[0;34m,\u001b[0m \u001b[0;36m1\u001b[0m\u001b[0;34m)\u001b[0m\u001b[0;34m,\u001b[0m \u001b[0;34m(\u001b[0m\u001b[0mn\u001b[0m\u001b[0;34m*\u001b[0m\u001b[0;34m(\u001b[0m\u001b[0mn\u001b[0m\u001b[0;34m-\u001b[0m\u001b[0;36m1\u001b[0m\u001b[0;34m)\u001b[0m\u001b[0;34m/\u001b[0m\u001b[0;36m2\u001b[0m\u001b[0;34m,\u001b[0m \u001b[0mn\u001b[0m\u001b[0;34m*\u001b[0m\u001b[0;34m(\u001b[0m\u001b[0mn\u001b[0m\u001b[0;34m-\u001b[0m\u001b[0;36m1\u001b[0m\u001b[0;34m)\u001b[0m\u001b[0;34m/\u001b[0m\u001b[0;36m2\u001b[0m\u001b[0;34m)\u001b[0m\u001b[0;34m,\u001b[0m \u001b[0mF\u001b[0m\u001b[0;34m,\u001b[0m \u001b[0mC\u001b[0m\u001b[0;34m,\u001b[0m \u001b[0mupdate\u001b[0m\u001b[0;34m=\u001b[0m\u001b[0mupdate\u001b[0m\u001b[0;34m,\u001b[0m \u001b[0mcorr\u001b[0m\u001b[0;34m=\u001b[0m\u001b[0mcorr\u001b[0m\u001b[0;34m,\u001b[0m \u001b[0msave\u001b[0m\u001b[0;34m=\u001b[0m\u001b[0msave\u001b[0m\u001b[0;34m,\u001b[0m \u001b[0mnumpoints\u001b[0m\u001b[0;34m=\u001b[0m\u001b[0mnumpoints\u001b[0m\u001b[0;34m)\u001b[0m\u001b[0;34m\u001b[0m\u001b[0m\n\u001b[1;32m    721\u001b[0m \u001b[0;34m\u001b[0m\u001b[0m\n",
      "\u001b[0;32m~/anaconda/lib/python3.6/site-packages/PyDSTool/PyCont/TestFunc.py\u001b[0m in \u001b[0;36m__init__\u001b[0;34m(self, dims, F, C, save, numpoints)\u001b[0m\n\u001b[1;32m    379\u001b[0m             \u001b[0mself\u001b[0m\u001b[0;34m.\u001b[0m\u001b[0mdata\u001b[0m \u001b[0;34m=\u001b[0m \u001b[0margs\u001b[0m\u001b[0;34m(\u001b[0m\u001b[0;34m)\u001b[0m\u001b[0;34m\u001b[0m\u001b[0m\n\u001b[1;32m    380\u001b[0m         \u001b[0mn\u001b[0m \u001b[0;34m=\u001b[0m \u001b[0mlen\u001b[0m\u001b[0;34m(\u001b[0m\u001b[0mself\u001b[0m\u001b[0;34m.\u001b[0m\u001b[0mF\u001b[0m\u001b[0;34m.\u001b[0m\u001b[0mcoords\u001b[0m\u001b[0;34m)\u001b[0m\u001b[0;34m\u001b[0m\u001b[0m\n\u001b[0;32m--> 381\u001b[0;31m         \u001b[0mself\u001b[0m\u001b[0;34m.\u001b[0m\u001b[0mdata\u001b[0m\u001b[0;34m.\u001b[0m\u001b[0mP\u001b[0m \u001b[0;34m=\u001b[0m \u001b[0mzeros\u001b[0m\u001b[0;34m(\u001b[0m\u001b[0;34m(\u001b[0m\u001b[0mn\u001b[0m\u001b[0;34m*\u001b[0m\u001b[0;34m(\u001b[0m\u001b[0mn\u001b[0m\u001b[0;34m-\u001b[0m\u001b[0;36m1\u001b[0m\u001b[0;34m)\u001b[0m\u001b[0;34m/\u001b[0m\u001b[0;36m2\u001b[0m\u001b[0;34m,\u001b[0m \u001b[0mn\u001b[0m\u001b[0;34m*\u001b[0m\u001b[0;34m(\u001b[0m\u001b[0mn\u001b[0m\u001b[0;34m-\u001b[0m\u001b[0;36m1\u001b[0m\u001b[0;34m)\u001b[0m\u001b[0;34m/\u001b[0m\u001b[0;36m2\u001b[0m\u001b[0;34m)\u001b[0m\u001b[0;34m,\u001b[0m \u001b[0mfloat\u001b[0m\u001b[0;34m)\u001b[0m\u001b[0;34m\u001b[0m\u001b[0m\n\u001b[0m\u001b[1;32m    382\u001b[0m \u001b[0;34m\u001b[0m\u001b[0m\n\u001b[1;32m    383\u001b[0m     \u001b[0;32mdef\u001b[0m \u001b[0mbialtprod\u001b[0m\u001b[0;34m(\u001b[0m\u001b[0mself\u001b[0m\u001b[0;34m,\u001b[0m \u001b[0mA\u001b[0m\u001b[0;34m,\u001b[0m \u001b[0mB\u001b[0m\u001b[0;34m)\u001b[0m\u001b[0;34m:\u001b[0m\u001b[0;34m\u001b[0m\u001b[0m\n",
      "\u001b[0;31mTypeError\u001b[0m: 'float' object cannot be interpreted as an integer"
     ]
    }
   ],
   "source": [
    "# Doing the bifurcation analysis as a function of gamma (g)\n",
    "# Set init cond near a known fp.\n",
    "ode.set(pars={'g': 0.1, 'h1': 0.9})  # lower bound for gamma\n",
    "ode.set(ics={'x': 0.0})  # init. cond. for x\n",
    "\n",
    "# Set up a continuation class from the ODE\n",
    "PyCont = PyDSTool.ContClass(ode)\n",
    "# 'EP-C' stands for Equilibrium Point Curve. The branch will be labeled 'EQ1'.\n",
    "PCargs = PyDSTool.args(name='branch1', type='EP-C')\n",
    "# control parameter(s) (it should be among those specified in DSargs.pars)\n",
    "PCargs.freepars = ['g']\n",
    "# The following 3 parameters are set after trial-and-error\n",
    "PCargs.MaxNumPoints = 20#1500\n",
    "PCargs.MaxStepSize = 1e-1\n",
    "PCargs.MinStepSize = 1e-7\n",
    "PCargs.StepSize = 1e-2\n",
    "PCargs.FuncTol = 1e-8\n",
    "PCargs.TestTol = 1e-8\n",
    "PCargs.VarTol = 1e-8\n",
    "# detect limit points / saddle-node bifurcations\n",
    "PCargs.LocBifPoints = 'all'  #['LP', 'BP']\n",
    "# to tell unstable from stable branches\n",
    "PCargs.SaveEigen = True\n",
    "\n",
    "# Computing the bifucation diagram\n",
    "print('First curve')\n",
    "PyCont.newCurve(PCargs)\n",
    "PyCont['branch1'].forward()\n",
    "#PyCont['branch1'].backward()\n",
    "\n",
    "# Other fps\n",
    "print('Starting second curve')\n",
    "PCargs = PyDSTool.args(name='branch2', type='EP-C', force=True)\n",
    "PCargs.initpoint = {'x': 1.0, 'g': 0.1}  #'branch1:BP1'\n",
    "#PCargs.initpoint = 'branch1:BP1'\n",
    "PCargs.freepars = ['g']\n",
    "PCargs.MaxNumPoints = 20\n",
    "PCargs.MaxStepSize = 1e-1\n",
    "PCargs.MinStepSize = 1e-7\n",
    "PCargs.StepSize = 1e-2\n",
    "PCargs.FuncTol = 1e-8\n",
    "PCargs.TestTol = 1e-8\n",
    "PCargs.VarTol = 1e-8\n",
    "PCargs.LocBifPoints = 'all'\n",
    "PCargs.SaveEigen = True\n",
    "#PCargs.verbosity = 2\n",
    "PyCont.newCurve(PCargs)\n",
    "#PyCont['branch2'].forward()\n",
    "PyCont['branch2'].backward()\n",
    "\n",
    "#\n",
    "PCargs.name = 'FO1'\n",
    "PCargs.type = 'LP-C'\n",
    "PCargs.initpoint = 'branch2:LP1'\n",
    "PCargs.freepars = ['g','h1']\n",
    "PCargs.MaxNumPoints = 20\n",
    "PCargs.MaxStepSize = 0.1\n",
    "PCargs.StepSize = 1e-2\n",
    "PCargs.LocBifPoints = 'all'\n",
    "#PCargs.verbosity = 2\n",
    "PyCont.newCurve(PCargs)\n",
    "\n",
    "print('Computing Fold curve...')\n",
    "PyCont['FO1'].forward()\n",
    "\n",
    "PyCont.display(['g', 'x'], stability=True)\n",
    "plt.show()"
   ]
  },
  {
   "cell_type": "code",
   "execution_count": null,
   "metadata": {},
   "outputs": [],
   "source": []
  }
 ],
 "metadata": {
  "kernelspec": {
   "display_name": "Python [conda root]",
   "language": "python",
   "name": "conda-root-py"
  },
  "language_info": {
   "codemirror_mode": {
    "name": "ipython",
    "version": 3
   },
   "file_extension": ".py",
   "mimetype": "text/x-python",
   "name": "python",
   "nbconvert_exporter": "python",
   "pygments_lexer": "ipython3",
   "version": "3.6.5"
  }
 },
 "nbformat": 4,
 "nbformat_minor": 2
}
